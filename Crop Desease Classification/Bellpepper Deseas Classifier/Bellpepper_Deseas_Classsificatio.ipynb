{
 "cells": [
  {
   "cell_type": "code",
   "execution_count": 1,
   "id": "db66340b-d452-485c-abba-d6a99e6d5b03",
   "metadata": {
    "tags": []
   },
   "outputs": [
    {
     "name": "stdout",
     "output_type": "stream",
     "text": [
      "WARNING:tensorflow:From C:\\Users\\Kusal\\AppData\\Roaming\\Python\\Python311\\site-packages\\keras\\src\\losses.py:2976: The name tf.losses.sparse_softmax_cross_entropy is deprecated. Please use tf.compat.v1.losses.sparse_softmax_cross_entropy instead.\n",
      "\n"
     ]
    }
   ],
   "source": [
    "import tensorflow as tf\n",
    "from tensorflow.keras import models, layers\n",
    "from tensorflow.keras.preprocessing.image import ImageDataGenerator\n",
    "import matplotlib.pyplot as plt\n",
    "\n"
   ]
  },
  {
   "cell_type": "code",
   "execution_count": 2,
   "id": "a29c648c-4c21-4b19-92bb-443ef97ac246",
   "metadata": {},
   "outputs": [],
   "source": [
    "BATCH_SIZE = 32\n",
    "IMAGE_SIZE = 256\n",
    "CHANNELS = 3\n",
    "EPOCHS = 10\n",
    "\n"
   ]
  },
  {
   "cell_type": "code",
   "execution_count": 3,
   "id": "a8c12192-dcaa-4671-9e42-d658b7efe63d",
   "metadata": {},
   "outputs": [],
   "source": [
    "# Data Augmentation\n",
    "train_datagen = ImageDataGenerator(\n",
    "    rescale=1./255,\n",
    "    rotation_range=0.2,\n",
    "    width_shift_range=0.2,\n",
    "    height_shift_range=0.2,\n",
    "    shear_range=0.2,\n",
    "    zoom_range=0.2,\n",
    "    horizontal_flip=True,\n",
    "    vertical_flip=True,\n",
    "    validation_split=0.2\n",
    ")\n",
    "\n"
   ]
  },
  {
   "cell_type": "code",
   "execution_count": 4,
   "id": "4512fbcd-b4a9-4d6f-941a-0c384f1f5364",
   "metadata": {},
   "outputs": [
    {
     "name": "stdout",
     "output_type": "stream",
     "text": [
      "Found 1981 images belonging to 2 classes.\n"
     ]
    }
   ],
   "source": [
    "train_generator = train_datagen.flow_from_directory(\n",
    "    \"Bellpepper\",\n",
    "    target_size=(IMAGE_SIZE, IMAGE_SIZE),\n",
    "    batch_size=BATCH_SIZE,\n",
    "    class_mode='categorical',\n",
    "    subset='training',\n",
    ")\n",
    "\n"
   ]
  },
  {
   "cell_type": "code",
   "execution_count": 6,
   "id": "cc47e017-469e-4f77-9efd-b4439f52ec3b",
   "metadata": {},
   "outputs": [
    {
     "name": "stdout",
     "output_type": "stream",
     "text": [
      "Found 494 images belonging to 2 classes.\n"
     ]
    }
   ],
   "source": [
    "\n",
    "\n",
    "validation_generator = train_datagen.flow_from_directory(\n",
    "    \"Bellpepper\",\n",
    "    target_size=(IMAGE_SIZE, IMAGE_SIZE),\n",
    "    batch_size=BATCH_SIZE,\n",
    "    class_mode='categorical',\n",
    "    subset='validation',\n",
    ")\n"
   ]
  },
  {
   "cell_type": "code",
   "execution_count": 7,
   "id": "492da9ed-3ad4-411b-865f-49dc55424c0d",
   "metadata": {
    "tags": []
   },
   "outputs": [
    {
     "name": "stdout",
     "output_type": "stream",
     "text": [
      "{'Pepper__bell___Bacterial_spot': 0, 'Pepper__bell___healthy': 1}\n"
     ]
    }
   ],
   "source": [
    "\n",
    "class_names = train_generator.class_indices\n",
    "print(class_names)"
   ]
  },
  {
   "cell_type": "code",
   "execution_count": 8,
   "id": "1fda28f3-ab38-4908-b139-bcb9c4407f6c",
   "metadata": {},
   "outputs": [
    {
     "name": "stdout",
     "output_type": "stream",
     "text": [
      "WARNING:tensorflow:From C:\\Users\\Kusal\\AppData\\Roaming\\Python\\Python311\\site-packages\\keras\\src\\backend.py:873: The name tf.get_default_graph is deprecated. Please use tf.compat.v1.get_default_graph instead.\n",
      "\n",
      "WARNING:tensorflow:From C:\\Users\\Kusal\\AppData\\Roaming\\Python\\Python311\\site-packages\\keras\\src\\layers\\pooling\\max_pooling2d.py:161: The name tf.nn.max_pool is deprecated. Please use tf.nn.max_pool2d instead.\n",
      "\n"
     ]
    }
   ],
   "source": [
    "\n",
    "# Model Definition\n",
    "model = models.Sequential([\n",
    "    layers.Conv2D(32, kernel_size=(3, 3), activation='relu', input_shape=(IMAGE_SIZE, IMAGE_SIZE, CHANNELS)),\n",
    "    layers.MaxPooling2D((2, 2)),\n",
    "    layers.Conv2D(64, kernel_size=(3, 3), activation='relu'),\n",
    "    layers.MaxPooling2D((2, 2)),\n",
    "    layers.Conv2D(64, kernel_size=(3, 3), activation='relu'),\n",
    "    layers.MaxPooling2D((2, 2)),\n",
    "    layers.Conv2D(64, kernel_size=(3, 3), activation='relu'),\n",
    "    layers.MaxPooling2D((2, 2)),\n",
    "    layers.Flatten(),\n",
    "    layers.Dense(64, activation='relu'),\n",
    "    layers.Dense(len(class_names), activation='softmax'),\n",
    "])\n",
    "\n"
   ]
  },
  {
   "cell_type": "code",
   "execution_count": 9,
   "id": "5ac9e5f4-b194-43fe-ae80-eb9882c3182b",
   "metadata": {},
   "outputs": [
    {
     "name": "stdout",
     "output_type": "stream",
     "text": [
      "WARNING:tensorflow:From C:\\Users\\Kusal\\AppData\\Roaming\\Python\\Python311\\site-packages\\keras\\src\\optimizers\\__init__.py:309: The name tf.train.Optimizer is deprecated. Please use tf.compat.v1.train.Optimizer instead.\n",
      "\n"
     ]
    }
   ],
   "source": [
    "# Model Compilation\n",
    "model.compile(\n",
    "    optimizer='adam',\n",
    "    loss='categorical_crossentropy',\n",
    "    metrics=['accuracy']\n",
    ")\n",
    "\n"
   ]
  },
  {
   "cell_type": "code",
   "execution_count": 10,
   "id": "af250af0-01a3-40cd-b672-ff6e103a3b99",
   "metadata": {},
   "outputs": [
    {
     "name": "stdout",
     "output_type": "stream",
     "text": [
      "Epoch 1/10\n",
      "WARNING:tensorflow:From C:\\Users\\Kusal\\AppData\\Roaming\\Python\\Python311\\site-packages\\keras\\src\\utils\\tf_utils.py:492: The name tf.ragged.RaggedTensorValue is deprecated. Please use tf.compat.v1.ragged.RaggedTensorValue instead.\n",
      "\n",
      "WARNING:tensorflow:From C:\\Users\\Kusal\\AppData\\Roaming\\Python\\Python311\\site-packages\\keras\\src\\engine\\base_layer_utils.py:384: The name tf.executing_eagerly_outside_functions is deprecated. Please use tf.compat.v1.executing_eagerly_outside_functions instead.\n",
      "\n",
      "61/61 [==============================] - 67s 1s/step - loss: 0.5352 - accuracy: 0.7604 - val_loss: 0.2879 - val_accuracy: 0.9042\n",
      "Epoch 2/10\n",
      "61/61 [==============================] - 53s 868ms/step - loss: 0.3141 - accuracy: 0.8897 - val_loss: 0.2513 - val_accuracy: 0.9104\n",
      "Epoch 3/10\n",
      "61/61 [==============================] - 53s 863ms/step - loss: 0.2420 - accuracy: 0.9246 - val_loss: 0.2149 - val_accuracy: 0.9354\n",
      "Epoch 4/10\n",
      "61/61 [==============================] - 52s 854ms/step - loss: 0.2182 - accuracy: 0.9246 - val_loss: 0.1808 - val_accuracy: 0.9333\n",
      "Epoch 5/10\n",
      "61/61 [==============================] - 52s 854ms/step - loss: 0.1753 - accuracy: 0.9513 - val_loss: 0.1067 - val_accuracy: 0.9667\n",
      "Epoch 6/10\n",
      "61/61 [==============================] - 53s 865ms/step - loss: 0.0932 - accuracy: 0.9769 - val_loss: 0.0845 - val_accuracy: 0.9792\n",
      "Epoch 7/10\n",
      "61/61 [==============================] - 57s 931ms/step - loss: 0.0414 - accuracy: 0.9897 - val_loss: 0.1145 - val_accuracy: 0.9646\n",
      "Epoch 8/10\n",
      "61/61 [==============================] - 54s 878ms/step - loss: 0.0670 - accuracy: 0.9820 - val_loss: 0.0574 - val_accuracy: 0.9896\n",
      "Epoch 9/10\n",
      "61/61 [==============================] - 53s 866ms/step - loss: 0.0416 - accuracy: 0.9892 - val_loss: 0.0708 - val_accuracy: 0.9896\n",
      "Epoch 10/10\n",
      "61/61 [==============================] - 52s 857ms/step - loss: 0.0278 - accuracy: 0.9923 - val_loss: 0.0604 - val_accuracy: 0.9937\n"
     ]
    }
   ],
   "source": [
    "# Model Training\n",
    "history = model.fit(\n",
    "    train_generator,\n",
    "    steps_per_epoch=train_generator.samples // BATCH_SIZE,\n",
    "    validation_data=validation_generator,\n",
    "    validation_steps=validation_generator.samples // BATCH_SIZE,\n",
    "    epochs=EPOCHS\n",
    ")\n",
    "\n"
   ]
  },
  {
   "cell_type": "code",
   "execution_count": 11,
   "id": "dfb194b9-2069-42d3-a00c-46d2ed86220a",
   "metadata": {},
   "outputs": [
    {
     "name": "stdout",
     "output_type": "stream",
     "text": [
      "16/16 [==============================] - 7s 437ms/step - loss: 0.0674 - accuracy: 0.9899\n",
      "Validation Loss: 0.06742843985557556\n",
      "Validation Accuracy: 0.9898785352706909\n"
     ]
    }
   ],
   "source": [
    "# Model Evaluation\n",
    "scores = model.evaluate(validation_generator)\n",
    "print(\"Validation Loss:\", scores[0])\n",
    "print(\"Validation Accuracy:\", scores[1])\n",
    "\n"
   ]
  },
  {
   "cell_type": "code",
   "execution_count": 14,
   "id": "9773f4be-480e-4b33-b31d-147097ea6ea9",
   "metadata": {
    "tags": []
   },
   "outputs": [
    {
     "name": "stderr",
     "output_type": "stream",
     "text": [
      "C:\\Users\\Kusal\\AppData\\Roaming\\Python\\Python311\\site-packages\\keras\\src\\engine\\training.py:3103: UserWarning: You are saving your model as an HDF5 file via `model.save()`. This file format is considered legacy. We recommend using instead the native Keras format, e.g. `model.save('my_model.keras')`.\n",
      "  saving_api.save_model(\n"
     ]
    }
   ],
   "source": [
    "# Saving the Model\n",
    "model.save(\"bellpepperemodelnew.h5\")"
   ]
  },
  {
   "cell_type": "code",
   "execution_count": 15,
   "id": "12f74597-2bda-49e5-b451-0c8ee5bc8334",
   "metadata": {
    "tags": []
   },
   "outputs": [
    {
     "ename": "ValueError",
     "evalue": "Sample larger than population or is negative",
     "output_type": "error",
     "traceback": [
      "\u001b[1;31m---------------------------------------------------------------------------\u001b[0m",
      "\u001b[1;31mValueError\u001b[0m                                Traceback (most recent call last)",
      "Cell \u001b[1;32mIn[15], line 32\u001b[0m\n\u001b[0;32m     29\u001b[0m     \u001b[38;5;28;01mreturn\u001b[39;00m img, img_array\n\u001b[0;32m     31\u001b[0m \u001b[38;5;66;03m# Select 20 random images\u001b[39;00m\n\u001b[1;32m---> 32\u001b[0m random_test_images \u001b[38;5;241m=\u001b[39m random\u001b[38;5;241m.\u001b[39msample(test_images, \u001b[38;5;241m20\u001b[39m)\n\u001b[0;32m     34\u001b[0m \u001b[38;5;66;03m# Perform predictions and display images\u001b[39;00m\n\u001b[0;32m     35\u001b[0m \u001b[38;5;28;01mfor\u001b[39;00m img_path \u001b[38;5;129;01min\u001b[39;00m random_test_images:\n",
      "File \u001b[1;32mC:\\ProgramData\\anaconda3\\Lib\\random.py:456\u001b[0m, in \u001b[0;36mRandom.sample\u001b[1;34m(self, population, k, counts)\u001b[0m\n\u001b[0;32m    454\u001b[0m randbelow \u001b[38;5;241m=\u001b[39m \u001b[38;5;28mself\u001b[39m\u001b[38;5;241m.\u001b[39m_randbelow\n\u001b[0;32m    455\u001b[0m \u001b[38;5;28;01mif\u001b[39;00m \u001b[38;5;129;01mnot\u001b[39;00m \u001b[38;5;241m0\u001b[39m \u001b[38;5;241m<\u001b[39m\u001b[38;5;241m=\u001b[39m k \u001b[38;5;241m<\u001b[39m\u001b[38;5;241m=\u001b[39m n:\n\u001b[1;32m--> 456\u001b[0m     \u001b[38;5;28;01mraise\u001b[39;00m \u001b[38;5;167;01mValueError\u001b[39;00m(\u001b[38;5;124m\"\u001b[39m\u001b[38;5;124mSample larger than population or is negative\u001b[39m\u001b[38;5;124m\"\u001b[39m)\n\u001b[0;32m    457\u001b[0m result \u001b[38;5;241m=\u001b[39m [\u001b[38;5;28;01mNone\u001b[39;00m] \u001b[38;5;241m*\u001b[39m k\n\u001b[0;32m    458\u001b[0m setsize \u001b[38;5;241m=\u001b[39m \u001b[38;5;241m21\u001b[39m        \u001b[38;5;66;03m# size of a small set minus size of an empty list\u001b[39;00m\n",
      "\u001b[1;31mValueError\u001b[0m: Sample larger than population or is negative"
     ]
    }
   ],
   "source": [
    "import tensorflow as tf\n",
    "from tensorflow.keras.models import load_model\n",
    "from tensorflow.keras.preprocessing import image\n",
    "import numpy as np\n",
    "import os\n",
    "import matplotlib.pyplot as plt\n",
    "import random\n",
    "\n",
    "BATCH_SIZE = 32\n",
    "IMAGE_SIZE = 256\n",
    "\n",
    "# Load the saved model\n",
    "model = tf.keras.models.load_model(\"bellpepperemodelnew.h5\")\n",
    "\n",
    "# Path to the directory containing test images\n",
    "test_dir = \"test_data\"\n",
    "\n",
    "# Get list of test images\n",
    "test_images = [os.path.join(test_dir, img) for img in os.listdir(test_dir)]\n",
    "\n",
    "# Mapping class indices to class labels\n",
    "class_labels = {0: \"Potato___Early_blight\", 1: \"Potato___Late_blight\", 2: \"Potato___healthy\"}  # Update with your actual class labels\n",
    "\n",
    "# Function to preprocess image\n",
    "def preprocess_image(img_path):\n",
    "    img = image.load_img(img_path, target_size=(IMAGE_SIZE, IMAGE_SIZE))\n",
    "    img_array = image.img_to_array(img)\n",
    "    img_array = np.expand_dims(img_array, axis=0) / 255.0  # Rescale and expand dimensions\n",
    "    return img, img_array\n",
    "\n",
    "# Select 20 random images\n",
    "random_test_images = random.sample(test_images, 20)\n",
    "\n",
    "# Perform predictions and display images\n",
    "for img_path in random_test_images:\n",
    "    img, preprocessed_img = preprocess_image(img_path)\n",
    "    prediction = model.predict(preprocessed_img)\n",
    "\n",
    "    # Display image\n",
    "    plt.imshow(img)\n",
    "    plt.axis('off')\n",
    "\n",
    "    # Display prediction\n",
    "    actual_label = img_path.split(os.path.sep)[-1].split(\"_\")[0]  # Extracting actual label from image file name\n",
    "    predicted_label = class_labels[np.argmax(prediction)]  # Getting predicted label\n",
    "    prediction_probabilities = prediction[0]\n",
    "    print(\"Image:\", img_path)\n",
    "    print(\"Actual Label:\", actual_label)\n",
    "    print(\"Predicted Label:\", predicted_label)\n",
    "    print(\"Prediction Probabilities:\", prediction_probabilities)\n",
    "    plt.title(f\"Actual: {actual_label}, Predicted: {predicted_label}\\nProbabilities: {prediction_probabilities}\")\n",
    "    plt.show()\n",
    "\n",
    "\n"
   ]
  },
  {
   "cell_type": "code",
   "execution_count": 16,
   "id": "0b118878-07ab-4d73-8130-bf75d7bf2951",
   "metadata": {
    "tags": []
   },
   "outputs": [
    {
     "data": {
      "image/png": "[encoded data removed]",
      "text/plain": [
       "<Figure size 1200x500 with 2 Axes>"
      ]
     },
     "metadata": {},
     "output_type": "display_data"
    },
    {
     "name": "stdout",
     "output_type": "stream",
     "text": [
      "16/16 [==============================] - 7s 440ms/step\n"
     ]
    }
   ],
   "source": [
    "import numpy as np\n",
    "from sklearn.metrics import roc_curve, auc\n",
    "\n",
    "# Plot Loss and Accuracy\n",
    "plt.figure(figsize=(12, 5))\n",
    "\n",
    "# Plot Loss\n",
    "plt.subplot(1, 2, 1)\n",
    "plt.plot(history.history['loss'], label='Training Loss')\n",
    "plt.plot(history.history['val_loss'], label='Validation Loss')\n",
    "plt.title('Training and Validation Loss')\n",
    "plt.xlabel('Epoch')\n",
    "plt.ylabel('Loss')\n",
    "plt.legend()\n",
    "\n",
    "# Plot Accuracy\n",
    "plt.subplot(1, 2, 2)\n",
    "plt.plot(history.history['accuracy'], label='Training Accuracy')\n",
    "plt.plot(history.history['val_accuracy'], label='Validation Accuracy')\n",
    "plt.title('Training and Validation Accuracy')\n",
    "plt.xlabel('Epoch')\n",
    "plt.ylabel('Accuracy')\n",
    "plt.legend()\n",
    "\n",
    "plt.tight_layout()\n",
    "plt.show()\n",
    "\n",
    "# Compute predictions and true labels for the validation set\n",
    "predictions = model.predict(validation_generator)\n",
    "y_true = validation_generator.classes\n",
    "\n",
    "\n"
   ]
  },
  {
   "cell_type": "code",
   "execution_count": null,
   "id": "fab17128-51b2-43a6-a45b-d003c01292d5",
   "metadata": {},
   "outputs": [],
   "source": []
  }
 ],
 "metadata": {
  "kernelspec": {
   "display_name": "Python 3 (ipykernel)",
   "language": "python",
   "name": "python3"
  },
  "language_info": {
   "codemirror_mode": {
    "name": "ipython",
    "version": 3
   },
   "file_extension": ".py",
   "mimetype": "text/x-python",
   "name": "python",
   "nbconvert_exporter": "python",
   "pygments_lexer": "ipython3",
   "version": "3.11.5"
  }
 },
 "nbformat": 4,
 "nbformat_minor": 5
}
